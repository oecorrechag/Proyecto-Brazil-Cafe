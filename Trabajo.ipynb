{
 "cells": [
  {
   "cell_type": "markdown",
   "metadata": {},
   "source": [
    "# <center> TRABAJO\n",
    "\n",
    "<div style=\"padding:10px; border-radius:10px; border:2px solid #4BACC6; background:#EEEEEE\">\n",
    "<span style=\"color:#4BACC6\" >\n",
    "    <h3>Integrantes:</h3>\n",
    "    <h4>\n",
    "    Juan Pablo Chaves Morales <br>\n",
    "    Oscar Eduardo Correcha Guzman <br>\n",
    "    Alejandro Mejia Osorio <br>\n",
    "    Juan Manuel Montoya Mesa <br>\n",
    "    Santiago Campos Giraldo\n",
    "    </h4></div>\n",
    "    </span>\n"
   ]
  },
  {
   "cell_type": "markdown",
   "metadata": {},
   "source": [
    "## Analisis previo: \n",
    "\n",
    "Inicialmente se contaba con 1089 imagenes correspondientes a 10 categorias, 9 defectos y 1 donde los granos de cafe buenos.\n",
    "\n",
    "Se retiraron las categorias donde se tenian menos de 50 imagenes, y hacer un muestreo sobre las categorias que se contaban con mas de 200 imagenes para tratar de balancear el dataset caffe. Las imagenes repartidas de la siguiente manera.\n",
    "\n",
    "    * 72 Arrugados.\n",
    "    * 90 Broca.\n",
    "    * 191 Buenos.\n",
    "    * 200 Decolorados.\n",
    "    * 200 Inmaduro.\n",
    "    * 123 Mordido.\n",
    "    * 101 Negro.\n",
    "    * 113 Vinagre.\n",
    "\n",
    "Inicialmente se tenia la idea de realizar un modelo de redes neuronales convolucionales CNN, pero por la baja cantidad de imagenes se penso tambien ajustar un modelo de machine learning ML que no demandara tantas imagenes. Para el ajuste de la CNN se uso Keras y para los modelos de ML se uso Sklearn. \n",
    "\n",
    "## Pasos de desarrollo:\n",
    "\n",
    "1. Solucion Modelo CNN\n",
    "\n",
    "    1. Importar librerías\n",
    "    2. Aplicacion del algoritmo gaussian_noise\n",
    "    3. Cargar todas las imágenes a la memoria (se uso PC)\n",
    "    4. Crear dinámicamente las etiquetas de resultado (etiquetado)\n",
    "    5. Dividir en sets de Entrenamiento, Validación y Test\n",
    "    6. Crear el modelo de la CNN\n",
    "    7. Entrenamiento de la CNN\n",
    "    8. Resultados\n",
    " \n",
    "2. Solucion Modelos ML\n",
    "\n",
    "    1. Importar librerías\n",
    "    2. Cargar las  imágenes a la memoria (se uso PC)\n",
    "    3. Crear dinámicamente las etiquetas de resultado (etiquetado)\n",
    "    4. Creacion del DataFrame donde se almacenan las imagenes\n",
    "    5. Dividir en sets de Entrenamiento, Test\n",
    "    6. Entrenamiento de ML\n",
    "    7. Resultados. \n",
    "    \n",
    "3. Comparacion y conclusion    \n"
   ]
  },
  {
   "cell_type": "markdown",
   "metadata": {},
   "source": [
    "# <center> Desarrollo\n",
    "\n",
    "## 1. Solucion Modelo CNN\n",
    "\n",
    "###  1. Importar librería"
   ]
  },
  {
   "cell_type": "code",
   "execution_count": 42,
   "metadata": {},
   "outputs": [],
   "source": [
    "# Carga de Librerias\n",
    "\n",
    "import numpy as np\n",
    "import os\n",
    "import re\n",
    "import matplotlib.pyplot as plt\n",
    "import cv2\n",
    "import seaborn as sns\n",
    "from sklearn.model_selection import train_test_split\n",
    "from sklearn.metrics import confusion_matrix, accuracy_score, f1_score, precision_score, recall_score, classification_report\n",
    "import keras\n",
    "from keras.utils import to_categorical\n",
    "from keras.models import Sequential,Input,Model\n",
    "from keras.layers import Dense, Dropout, Flatten\n",
    "from keras.layers import Conv2D, MaxPooling2D\n",
    "from keras.layers.normalization import BatchNormalization\n",
    "from keras.layers.advanced_activations import LeakyReLU\n",
    "from keras.utils.vis_utils import plot_model\n",
    "from keras import regularizers"
   ]
  },
  {
   "cell_type": "code",
   "execution_count": 75,
   "metadata": {},
   "outputs": [],
   "source": [
    "# Funciones auxiliares\n",
    "\n",
    "def evaluate_model(y_test, y_pred, model = None):\n",
    "    \"\"\"\n",
    "    Aqui se pondran las cuatro metricas que se piden en el reporte\n",
    "    debido a que cada modelo requiere las mismas metricas es probable que se pueda ejecutar el mismo para todas\n",
    "    \"\"\"\n",
    "    f1 = print('El f1 score es de: ', f1_score(y_test, y_pred, average = 'weighted'))\n",
    "    acc = print('El acc score es de: ', accuracy_score(y_test, y_pred))\n",
    "    ps = print('La precision es de: ', precision_score(y_test, y_pred, average = 'micro'))\n",
    "    re = print('El f1 score es de: ', recall_score(y_test, y_pred, average = 'micro'))\n",
    "    \n",
    "    return f1, acc, ps, re\n",
    "\n",
    "\n",
    "\n",
    "def matconfision(y_test, y_pred):\n",
    "    '''EN ESTA FUNCION ENTRAN LAS Y ORIGINALES Y LAS PREDICCIONES PARA CREAR UNA MATRIZ DE CONFUSION MAS BONITA'''\n",
    "    \n",
    "    cm = confusion_matrix(y_test, y_pred)\n",
    "    cmn = cm.astype('float') / cm.sum(axis=1)[:, np.newaxis]\n",
    "    target_names = set(y)\n",
    "    \n",
    "    fig, ax = plt.subplots(figsize = (10,10))\n",
    "    sns.heatmap(cmn, annot=True, fmt='.2f', xticklabels=target_names, yticklabels=target_names)\n",
    "    plt.xlabel('Predicted')\n",
    "    \n",
    "    return plt.show(block=False)"
   ]
  },
  {
   "cell_type": "markdown",
   "metadata": {},
   "source": [
    "###  2. Cargar las  imágenes a la memoria (se uso PC)\n",
    "\n",
    "Se leen las imagenes de las carpetas que estan en la carpeta fotos2, se re-escalaran y automaticamente se guardaran en ese tamaño, ya que la lectura de las imagenes en tamaño origina es muy lenta pero en tamaño reducido es muy rapida."
   ]
  },
  {
   "cell_type": "code",
   "execution_count": 76,
   "metadata": {
    "scrolled": false
   },
   "outputs": [
    {
     "name": "stdout",
     "output_type": "stream",
     "text": [
      "leyendo imagenes de  C:\\Users\\SERGIOANDRES\\Desktop\\Actividad 1\\Final\\fotos2\\\n",
      "C:\\Users\\SERGIOANDRES\\Desktop\\Actividad 1\\Final\\fotos2\\Arrugados 1\n",
      "C:\\Users\\SERGIOANDRES\\Desktop\\Actividad 1\\Final\\fotos2\\Broca 70\n",
      "C:\\Users\\SERGIOANDRES\\Desktop\\Actividad 1\\Final\\fotos2\\Buenos 90\n",
      "C:\\Users\\SERGIOANDRES\\Desktop\\Actividad 1\\Final\\fotos2\\Decolorado 191\n",
      "C:\\Users\\SERGIOANDRES\\Desktop\\Actividad 1\\Final\\fotos2\\Inmaduro 200\n",
      "C:\\Users\\SERGIOANDRES\\Desktop\\Actividad 1\\Final\\fotos2\\Mordido 200\n",
      "C:\\Users\\SERGIOANDRES\\Desktop\\Actividad 1\\Final\\fotos2\\Negro 123\n",
      "C:\\Users\\SERGIOANDRES\\Desktop\\Actividad 1\\Final\\fotos2\\Vinagre 101\n",
      "Directorios leidos:  8\n",
      "Imagenes en cada directorios [71, 90, 191, 200, 200, 123, 101, 113]\n",
      "Suma total de imagenes en subdirs 1089\n"
     ]
    }
   ],
   "source": [
    "# se para en la carpeta fotos\n",
    "dirname = os.path.join(os.getcwd(), 'fotos2') \n",
    "imgpath = dirname + os.sep\n",
    "\n",
    "images = []                  # lista para guardar las imagenes\n",
    "directories = []             # lista de nombres de las carpetas donde estan las imagenes\n",
    "dircount = []                # lista de imagenes por carpeta\n",
    "prevRoot = ''\n",
    "cant = 0                     # variable para contar imagenes\n",
    "\n",
    "print('leyendo imagenes de ', imgpath)\n",
    "\n",
    "for root, dirnames, filenames in os.walk(imgpath):                  # itera sobre lo que hay en fotos\n",
    "    for filename in filenames:                                      # itera sobre la lista de los nombres de las carpetas de fotos\n",
    "        filepath = os.path.join(root, filename)                     # direccion de cada imagen\n",
    "        image = plt.imread(filepath)                                # lee la imagen\n",
    "        \n",
    "        #image = cv2.resize(image, (2256, 1504), interpolation = cv2.INTER_NEAREST)     #re escalar a tamaño maximo de imagen\n",
    "        #image = image[150:1100,600:1700]                            # recorta lo que me interesa de la imagen\n",
    "        #image = cv2.resize(image, (28, 28), interpolation = cv2.INTER_NEAREST)         # re escalar\n",
    "        \n",
    "        #to = cv2.cvtColor(image, cv2.COLOR_BGR2RGB)                              ### guardar\n",
    "        #cv2.imwrite(filepath, to)                                                ### guardar\n",
    "        \n",
    "        images.append(image)                                        # guarda las imagenes en la lista images\n",
    "        b = 'Leyendo...' + str(cant)                                # concatena palabra leyendo y numero de imagen\n",
    "        print(b, end = '\\r')                                        # imprime linea anterior\n",
    "        cant = cant + 1                                             # por cada objeto encontrado suma 1 a cant\n",
    "        \n",
    "        if prevRoot != root:                                        # revisa si se leyeron todas las imagenes de la \n",
    "            print(root, cant)                                       # carpeta, para continuar la lectura de las imagenes \n",
    "            prevRoot = root                                         # de otra carpeta\n",
    "            directories.append(root)\n",
    "            dircount.append(cant)\n",
    "            cant = 0\n",
    "dircount.append(cant)\n",
    "dircount = dircount[1:]\n",
    "dircount[0] = dircount[0] + 1\n",
    "print('Directorios leidos: ', len(directories))         \n",
    "print('Imagenes en cada directorios', dircount)\n",
    "print('Suma total de imagenes en subdirs', sum(dircount))"
   ]
  },
  {
   "cell_type": "markdown",
   "metadata": {},
   "source": [
    "### 3. Crear dinámicamente las etiquetas de resultado (etiquetado)\n",
    "\n",
    "Se crean las etiquetas y se guardan en la lista labels, se le asigna un numero desde 0 a 7 por orden de lectura. Esto se realiza por ser un algoritmo supervisado. Luego se converte las etiquetas y las imágenes en numpy array con np.array()\n",
    "\n",
    "* Arrugados Etiqueta 0\n",
    "* Broca Etiqueta 1\n",
    "* Buenos Etiqueta 2\n",
    "* Decolorados Etiqueta 3\n",
    "* Inmaduro Etiqueta 4\n",
    "* Mordido Etiqueta 5\n",
    "* Negro Etiqueta 6\n",
    "* Vinagre Etiqueta 7\n"
   ]
  },
  {
   "cell_type": "code",
   "execution_count": 77,
   "metadata": {},
   "outputs": [
    {
     "name": "stdout",
     "output_type": "stream",
     "text": [
      "Cantidad etiquetas creadas:  1089\n"
     ]
    }
   ],
   "source": [
    "# lista para guardar las etiquetas\n",
    "labels = []\n",
    "indice = 0\n",
    "# itelador sobre la lista de cantidades de fotos \n",
    "for cantidad in dircount:\n",
    "    for i in range(cantidad):                            # itera sore la cantidad de fotos por carpeta\n",
    "        labels.append(indice)                            # etiqueta con 0 la primera carpeta con 1 la siguiente .....hasta 8\n",
    "    indice = indice + 1                                  # incrementa el indice para cambiar de carpeta\n",
    "print('Cantidad etiquetas creadas: ', len(labels))"
   ]
  },
  {
   "cell_type": "code",
   "execution_count": 78,
   "metadata": {},
   "outputs": [
    {
     "name": "stdout",
     "output_type": "stream",
     "text": [
      "0 Arrugados\n",
      "1 Broca\n",
      "2 Buenos\n",
      "3 Decolorado\n",
      "4 Inmaduro\n",
      "5 Mordido\n",
      "6 Negro\n",
      "7 Vinagre\n"
     ]
    }
   ],
   "source": [
    "# lista de categorias\n",
    "cafes = []\n",
    "indice = 0\n",
    "for directorio in directories:                           # itera sobre \n",
    "    name = directorio.split(os.sep)                      # toma la ultima parte del directorio\n",
    "    print(indice, name[len(name) -1])\n",
    "    cafes.append(name[len(name) -1])                  # agrega a la lista el nombre del cafe\n",
    "    indice = indice + 1                                  # incrementa el indice para cambiar de directorio"
   ]
  },
  {
   "cell_type": "code",
   "execution_count": 79,
   "metadata": {},
   "outputs": [],
   "source": [
    "# convertir array las images y labels\n",
    "y = np.array(labels)\n",
    "X = np.array(images)"
   ]
  },
  {
   "cell_type": "code",
   "execution_count": 80,
   "metadata": {},
   "outputs": [
    {
     "data": {
      "text/plain": [
       "array([0, 1, 2, 3, 4, 5, 6, 7])"
      ]
     },
     "execution_count": 80,
     "metadata": {},
     "output_type": "execute_result"
    }
   ],
   "source": [
    "# categorias existentes\n",
    "classes = np.unique(y)\n",
    "classes"
   ]
  },
  {
   "cell_type": "code",
   "execution_count": 81,
   "metadata": {},
   "outputs": [
    {
     "data": {
      "text/plain": [
       "8"
      ]
     },
     "execution_count": 81,
     "metadata": {},
     "output_type": "execute_result"
    }
   ],
   "source": [
    "# numero de categorias diferentes\n",
    "nClasses = len(classes)\n",
    "nClasses"
   ]
  },
  {
   "cell_type": "markdown",
   "metadata": {},
   "source": [
    "### 4. Dividir en sets de Entrenamiento, Validación y Test\n",
    "\n",
    "Nótese la «forma» (shape) de los arrays: veremos que son de 28×28 y por 3 pues el 3 se refiere a los 3 canales de colores que tiene cada imagen: RGB (red, green, blue) que tiene valores de 0 a 255.\n",
    "\n",
    "Preprocesamos el valor de los pixeles y lo normalizamos para que tengan un valor entre 0 y 1, por eso dividimos en 255.\n",
    "\n",
    "Ademas haremos el «One-Hot encoding» con to_categorical()  que se refiere a convertir las etiquetas, para luego llegar al entrenamiento."
   ]
  },
  {
   "cell_type": "code",
   "execution_count": 82,
   "metadata": {},
   "outputs": [
    {
     "name": "stdout",
     "output_type": "stream",
     "text": [
      "Training data shape:  (871, 28, 28, 3) (871,)\n",
      "Test data shape:  (218, 28, 28, 3) (218,)\n"
     ]
    }
   ],
   "source": [
    "# train and test, todas las imagenes tienen la misma dimension\n",
    "train_X, test_X, train_Y, test_Y = train_test_split(X, y, test_size = 0.2)\n",
    "print('Training data shape: ', train_X.shape, train_Y.shape)\n",
    "print('Test data shape: ', test_X.shape, test_Y.shape)"
   ]
  },
  {
   "cell_type": "code",
   "execution_count": 83,
   "metadata": {},
   "outputs": [
    {
     "data": {
      "text/plain": [
       "Text(0.5, 1.0, 'Ground Truth: 4')"
      ]
     },
     "execution_count": 83,
     "metadata": {},
     "output_type": "execute_result"
    },
    {
     "data": {
      "image/png": "[encoded data removed]",
      "text/plain": [
       "<Figure size 360x360 with 2 Axes>"
      ]
     },
     "metadata": {
      "needs_background": "light"
     },
     "output_type": "display_data"
    }
   ],
   "source": [
    "plt.figure(figsize = [5,5])\n",
    "\n",
    "# primera imagen de training data\n",
    "plt.subplot(121)\n",
    "plt.imshow(train_X[0,:,:], cmap = 'gray')\n",
    "plt.title('Ground Truth: {}'.format(train_Y[0]))\n",
    "\n",
    "# primera imagen de training data\n",
    "plt.subplot(122)\n",
    "plt.imshow(test_X[0,:,:], cmap = 'gray')\n",
    "plt.title('Ground Truth: {}'.format(test_Y[0]))"
   ]
  },
  {
   "cell_type": "code",
   "execution_count": 84,
   "metadata": {},
   "outputs": [],
   "source": [
    "train_X = train_X.astype('float32')\n",
    "test_X = test_X.astype('float32')"
   ]
  },
  {
   "cell_type": "code",
   "execution_count": 85,
   "metadata": {},
   "outputs": [],
   "source": [
    "train_X = train_X / 255.\n",
    "test_X = test_X / 255."
   ]
  },
  {
   "cell_type": "markdown",
   "metadata": {},
   "source": [
    "**One-hot Encoding**"
   ]
  },
  {
   "cell_type": "code",
   "execution_count": 86,
   "metadata": {},
   "outputs": [
    {
     "name": "stdout",
     "output_type": "stream",
     "text": [
      "Original label:  4\n",
      "After:  [0. 0. 0. 0. 1. 0. 0. 0.]\n"
     ]
    }
   ],
   "source": [
    "# cambio a categorico\n",
    "train_Y_one_hot = to_categorical(train_Y)\n",
    "test_y_one_hot = to_categorical(test_Y)\n",
    "\n",
    "# verigicacion\n",
    "print('Original label: ', train_Y[0])\n",
    "print('After: ', train_Y_one_hot[0])"
   ]
  },
  {
   "cell_type": "code",
   "execution_count": 87,
   "metadata": {},
   "outputs": [],
   "source": [
    "X_train, X_test, y_train, y_test = train_test_split(train_X, train_Y_one_hot, test_size = 0.2, random_state = 123)"
   ]
  },
  {
   "cell_type": "code",
   "execution_count": 88,
   "metadata": {},
   "outputs": [
    {
     "name": "stdout",
     "output_type": "stream",
     "text": [
      "(696, 28, 28, 3) (175, 28, 28, 3) (696, 8) (175, 8)\n"
     ]
    }
   ],
   "source": [
    "print(X_train.shape, X_test.shape, y_train.shape, y_test.shape)"
   ]
  },
  {
   "cell_type": "markdown",
   "metadata": {},
   "source": [
    "### 5. Crear el modelo de la CNN\n",
    "\n",
    "Se utilizo Keras dada su facilidad de uso. De multiples pruebas se decidio tomar los siguientes valores en los respectivos hiperparametros:\n",
    "\n",
    "* Taza de aprendizaje de 0.005\n",
    "* 100 Epocas\n",
    "* Batch size de 64.\n",
    "* Optimizador: Adagrad\n",
    "\n",
    "La arquitectura elegida es de 6 capas convolucionales con multiples dropout para evitar el sobre entrenamiento y funciones de activacion relu, en la segunda parte se aplana y se crea una red neuronal densa de 32 neuronas en la primera capa con una salida softmax de 8 neuronas que corresponden a la salida del one hot encoding.\n",
    "\n",
    "La arquitectura completa cuenta con 410,344 parametros a entrenar, con un tiempo estimado de 10 minutos, este tiempo se puede reducir si se entrena en la nube por ejemplo en el Colab de google."
   ]
  },
  {
   "cell_type": "code",
   "execution_count": 89,
   "metadata": {},
   "outputs": [],
   "source": [
    "# taza de aprendizaje\n",
    "init_lr = 0.005\n",
    "# iteraciones por conjnto de entrenamiento\n",
    "epochs = 100\n",
    "# cantidad de imagenes que se toman a la vez en memoria\n",
    "batch_size = 64"
   ]
  },
  {
   "cell_type": "code",
   "execution_count": 90,
   "metadata": {},
   "outputs": [],
   "source": [
    "model = Sequential()\n",
    "model.add(Conv2D(16, kernel_size = [3, 3], padding = \"same\", activation = \"relu\", input_shape = (28, 28, 3)))\n",
    "model.add(Conv2D(32, kernel_size = [3, 3], padding = \"same\", activation = \"relu\"))\n",
    "model.add(Dropout(0.5))\n",
    "model.add(MaxPooling2D(pool_size = [3, 3]))\n",
    "model.add(Conv2D(32, kernel_size = [3, 3], padding = \"same\", activation = \"relu\"))\n",
    "model.add(Conv2D(64, kernel_size = [3, 3], padding = \"same\", activation = \"relu\"))\n",
    "model.add(MaxPooling2D(pool_size = [3, 3]))\n",
    "model.add(Conv2D(128, kernel_size = [3, 3], padding = \"same\", activation = \"relu\"))\n",
    "model.add(Conv2D(256, kernel_size = [3, 3], padding = \"same\", activation = \"relu\"))\n",
    "model.add(MaxPooling2D(pool_size = [3, 3]))\n",
    "model.add(Dropout(0.5))\n",
    "#model.add(BatchNormalization())\n",
    "    \n",
    "model.add(Flatten())\n",
    "model.add(Dropout(0.5))\n",
    "model.add(Dense(32, activation = 'relu', kernel_regularizer = regularizers.l2(0.001)))\n",
    "model.add(LeakyReLU(alpha=0.1))\n",
    "model.add(Dropout(0.5))\n",
    "model.add(Dense(nClasses, activation = \"softmax\"))"
   ]
  },
  {
   "cell_type": "code",
   "execution_count": 91,
   "metadata": {
    "scrolled": true
   },
   "outputs": [
    {
     "name": "stdout",
     "output_type": "stream",
     "text": [
      "Model: \"sequential_2\"\n",
      "_________________________________________________________________\n",
      "Layer (type)                 Output Shape              Param #   \n",
      "=================================================================\n",
      "conv2d_7 (Conv2D)            (None, 28, 28, 16)        448       \n",
      "_________________________________________________________________\n",
      "conv2d_8 (Conv2D)            (None, 28, 28, 32)        4640      \n",
      "_________________________________________________________________\n",
      "dropout_5 (Dropout)          (None, 28, 28, 32)        0         \n",
      "_________________________________________________________________\n",
      "max_pooling2d_4 (MaxPooling2 (None, 9, 9, 32)          0         \n",
      "_________________________________________________________________\n",
      "conv2d_9 (Conv2D)            (None, 9, 9, 32)          9248      \n",
      "_________________________________________________________________\n",
      "conv2d_10 (Conv2D)           (None, 9, 9, 64)          18496     \n",
      "_________________________________________________________________\n",
      "max_pooling2d_5 (MaxPooling2 (None, 3, 3, 64)          0         \n",
      "_________________________________________________________________\n",
      "conv2d_11 (Conv2D)           (None, 3, 3, 128)         73856     \n",
      "_________________________________________________________________\n",
      "conv2d_12 (Conv2D)           (None, 3, 3, 256)         295168    \n",
      "_________________________________________________________________\n",
      "max_pooling2d_6 (MaxPooling2 (None, 1, 1, 256)         0         \n",
      "_________________________________________________________________\n",
      "dropout_6 (Dropout)          (None, 1, 1, 256)         0         \n",
      "_________________________________________________________________\n",
      "flatten_2 (Flatten)          (None, 256)               0         \n",
      "_________________________________________________________________\n",
      "dropout_7 (Dropout)          (None, 256)               0         \n",
      "_________________________________________________________________\n",
      "dense_3 (Dense)              (None, 32)                8224      \n",
      "_________________________________________________________________\n",
      "leaky_re_lu_2 (LeakyReLU)    (None, 32)                0         \n",
      "_________________________________________________________________\n",
      "dropout_8 (Dropout)          (None, 32)                0         \n",
      "_________________________________________________________________\n",
      "dense_4 (Dense)              (None, 8)                 264       \n",
      "=================================================================\n",
      "Total params: 410,344\n",
      "Trainable params: 410,344\n",
      "Non-trainable params: 0\n",
      "_________________________________________________________________\n"
     ]
    }
   ],
   "source": [
    "model.summary()"
   ]
  },
  {
   "cell_type": "code",
   "execution_count": 92,
   "metadata": {},
   "outputs": [],
   "source": [
    "model.compile(loss = keras.losses.categorical_crossentropy, \n",
    "              optimizer = keras.optimizers.Adagrad(lr = init_lr, decay = init_lr / 100), \n",
    "              metrics = ['accuracy'])"
   ]
  },
  {
   "cell_type": "markdown",
   "metadata": {},
   "source": [
    "### 6. Entrenamiento de la CNN"
   ]
  },
  {
   "cell_type": "code",
   "execution_count": 93,
   "metadata": {},
   "outputs": [
    {
     "name": "stdout",
     "output_type": "stream",
     "text": [
      "Train on 696 samples, validate on 175 samples\n",
      "Epoch 1/100\n",
      "696/696 [==============================] - 6s 9ms/step - loss: 2.2116 - accuracy: 0.1394 - val_loss: 2.1159 - val_accuracy: 0.2114\n",
      "Epoch 2/100\n",
      "696/696 [==============================] - 4s 6ms/step - loss: 2.1029 - accuracy: 0.1595 - val_loss: 2.0853 - val_accuracy: 0.2114\n",
      "Epoch 3/100\n",
      "696/696 [==============================] - 3s 5ms/step - loss: 2.0370 - accuracy: 0.2299 - val_loss: 1.9053 - val_accuracy: 0.5314\n",
      "Epoch 4/100\n",
      "696/696 [==============================] - 3s 4ms/step - loss: 1.8552 - accuracy: 0.3032 - val_loss: 1.6751 - val_accuracy: 0.5257\n",
      "Epoch 5/100\n",
      "696/696 [==============================] - 3s 4ms/step - loss: 1.6294 - accuracy: 0.3851 - val_loss: 1.4495 - val_accuracy: 0.5657\n",
      "Epoch 6/100\n",
      "696/696 [==============================] - 3s 4ms/step - loss: 1.5577 - accuracy: 0.4282 - val_loss: 1.4160 - val_accuracy: 0.5657\n",
      "Epoch 7/100\n",
      "696/696 [==============================] - 3s 5ms/step - loss: 1.4506 - accuracy: 0.4583 - val_loss: 1.3919 - val_accuracy: 0.5714\n",
      "Epoch 8/100\n",
      "696/696 [==============================] - 3s 5ms/step - loss: 1.3763 - accuracy: 0.4756 - val_loss: 1.2423 - val_accuracy: 0.6286\n",
      "Epoch 9/100\n",
      "696/696 [==============================] - 3s 4ms/step - loss: 1.2932 - accuracy: 0.5302 - val_loss: 1.2099 - val_accuracy: 0.6286\n",
      "Epoch 10/100\n",
      "696/696 [==============================] - 3s 4ms/step - loss: 1.2682 - accuracy: 0.5532 - val_loss: 1.1844 - val_accuracy: 0.6514\n",
      "Epoch 11/100\n",
      "696/696 [==============================] - 3s 4ms/step - loss: 1.2153 - accuracy: 0.5532 - val_loss: 1.1335 - val_accuracy: 0.6343\n",
      "Epoch 12/100\n",
      "696/696 [==============================] - 3s 4ms/step - loss: 1.1914 - accuracy: 0.5589 - val_loss: 1.1063 - val_accuracy: 0.6343\n",
      "Epoch 13/100\n",
      "696/696 [==============================] - 3s 4ms/step - loss: 1.2038 - accuracy: 0.5991 - val_loss: 1.1270 - val_accuracy: 0.6514\n",
      "Epoch 14/100\n",
      "696/696 [==============================] - 3s 5ms/step - loss: 1.1644 - accuracy: 0.5862 - val_loss: 1.0390 - val_accuracy: 0.6400\n",
      "Epoch 15/100\n",
      "696/696 [==============================] - 3s 5ms/step - loss: 1.0784 - accuracy: 0.6279 - val_loss: 1.0345 - val_accuracy: 0.6514\n",
      "Epoch 16/100\n",
      "696/696 [==============================] - 3s 5ms/step - loss: 1.0974 - accuracy: 0.6063 - val_loss: 1.0512 - val_accuracy: 0.6571\n",
      "Epoch 17/100\n",
      "696/696 [==============================] - 3s 5ms/step - loss: 1.0481 - accuracy: 0.6121 - val_loss: 1.0213 - val_accuracy: 0.6514\n",
      "Epoch 18/100\n",
      "696/696 [==============================] - 3s 5ms/step - loss: 1.0856 - accuracy: 0.6236 - val_loss: 1.0456 - val_accuracy: 0.6571\n",
      "Epoch 19/100\n",
      "696/696 [==============================] - 3s 5ms/step - loss: 1.0620 - accuracy: 0.6322 - val_loss: 0.9878 - val_accuracy: 0.6571\n",
      "Epoch 20/100\n",
      "696/696 [==============================] - 3s 5ms/step - loss: 1.0438 - accuracy: 0.6437 - val_loss: 1.0643 - val_accuracy: 0.6686\n",
      "Epoch 21/100\n",
      "696/696 [==============================] - 3s 5ms/step - loss: 1.0163 - accuracy: 0.6250 - val_loss: 0.9486 - val_accuracy: 0.6514\n",
      "Epoch 22/100\n",
      "696/696 [==============================] - 3s 5ms/step - loss: 1.0363 - accuracy: 0.6193 - val_loss: 0.9904 - val_accuracy: 0.6686\n",
      "Epoch 23/100\n",
      "696/696 [==============================] - 4s 5ms/step - loss: 1.0342 - accuracy: 0.6394 - val_loss: 0.9771 - val_accuracy: 0.6743\n",
      "Epoch 24/100\n",
      "696/696 [==============================] - 4s 5ms/step - loss: 1.0064 - accuracy: 0.6580 - val_loss: 0.9399 - val_accuracy: 0.6743\n",
      "Epoch 25/100\n",
      "696/696 [==============================] - 4s 6ms/step - loss: 0.9707 - accuracy: 0.6624 - val_loss: 0.9275 - val_accuracy: 0.6743\n",
      "Epoch 26/100\n",
      "696/696 [==============================] - 4s 5ms/step - loss: 0.9186 - accuracy: 0.6767 - val_loss: 0.9269 - val_accuracy: 0.6971\n",
      "Epoch 27/100\n",
      "696/696 [==============================] - 4s 6ms/step - loss: 0.9701 - accuracy: 0.6509 - val_loss: 0.9517 - val_accuracy: 0.7143\n",
      "Epoch 28/100\n",
      "696/696 [==============================] - 4s 5ms/step - loss: 0.9665 - accuracy: 0.6624 - val_loss: 0.9027 - val_accuracy: 0.6800\n",
      "Epoch 29/100\n",
      "696/696 [==============================] - 4s 6ms/step - loss: 0.9174 - accuracy: 0.6710 - val_loss: 0.9604 - val_accuracy: 0.7143\n",
      "Epoch 30/100\n",
      "696/696 [==============================] - 4s 6ms/step - loss: 0.9484 - accuracy: 0.6509 - val_loss: 0.8900 - val_accuracy: 0.6857\n",
      "Epoch 31/100\n",
      "696/696 [==============================] - 4s 6ms/step - loss: 0.9602 - accuracy: 0.6652 - val_loss: 0.9000 - val_accuracy: 0.6971\n",
      "Epoch 32/100\n",
      "696/696 [==============================] - 4s 6ms/step - loss: 0.9376 - accuracy: 0.6853 - val_loss: 0.9271 - val_accuracy: 0.7029\n",
      "Epoch 33/100\n",
      "696/696 [==============================] - 4s 6ms/step - loss: 0.9273 - accuracy: 0.6638 - val_loss: 0.8824 - val_accuracy: 0.7029\n",
      "Epoch 34/100\n",
      "696/696 [==============================] - 4s 6ms/step - loss: 0.8975 - accuracy: 0.6753 - val_loss: 0.8719 - val_accuracy: 0.7029\n",
      "Epoch 35/100\n",
      "696/696 [==============================] - 3s 5ms/step - loss: 0.9454 - accuracy: 0.6624 - val_loss: 0.9105 - val_accuracy: 0.7086\n",
      "Epoch 36/100\n",
      "696/696 [==============================] - 4s 5ms/step - loss: 0.8420 - accuracy: 0.7055 - val_loss: 0.8426 - val_accuracy: 0.6914\n",
      "Epoch 37/100\n",
      "696/696 [==============================] - 4s 5ms/step - loss: 0.8545 - accuracy: 0.6983 - val_loss: 0.9041 - val_accuracy: 0.7143\n",
      "Epoch 38/100\n",
      "696/696 [==============================] - 3s 5ms/step - loss: 0.8931 - accuracy: 0.6825 - val_loss: 0.8715 - val_accuracy: 0.7143\n",
      "Epoch 39/100\n",
      "696/696 [==============================] - 4s 5ms/step - loss: 0.8906 - accuracy: 0.6911 - val_loss: 0.8606 - val_accuracy: 0.6914\n",
      "Epoch 40/100\n",
      "696/696 [==============================] - 3s 5ms/step - loss: 0.8725 - accuracy: 0.7026 - val_loss: 0.8365 - val_accuracy: 0.6971\n",
      "Epoch 41/100\n",
      "696/696 [==============================] - 3s 5ms/step - loss: 0.8702 - accuracy: 0.7069 - val_loss: 0.8618 - val_accuracy: 0.7371\n",
      "Epoch 42/100\n",
      "696/696 [==============================] - 4s 5ms/step - loss: 0.8638 - accuracy: 0.7011 - val_loss: 0.9192 - val_accuracy: 0.7257\n",
      "Epoch 43/100\n",
      "696/696 [==============================] - 4s 6ms/step - loss: 0.8799 - accuracy: 0.7213 - val_loss: 0.8388 - val_accuracy: 0.7200\n",
      "Epoch 44/100\n",
      "696/696 [==============================] - 4s 6ms/step - loss: 0.8463 - accuracy: 0.7069 - val_loss: 0.8811 - val_accuracy: 0.7314\n",
      "Epoch 45/100\n",
      "696/696 [==============================] - 3s 5ms/step - loss: 0.8630 - accuracy: 0.7011 - val_loss: 0.8190 - val_accuracy: 0.7029\n",
      "Epoch 46/100\n",
      "696/696 [==============================] - 3s 5ms/step - loss: 0.8399 - accuracy: 0.7141 - val_loss: 0.8494 - val_accuracy: 0.7314\n",
      "Epoch 47/100\n",
      "696/696 [==============================] - 3s 5ms/step - loss: 0.7993 - accuracy: 0.7141 - val_loss: 0.8238 - val_accuracy: 0.7200\n",
      "Epoch 48/100\n",
      "696/696 [==============================] - 3s 5ms/step - loss: 0.7943 - accuracy: 0.7069 - val_loss: 0.8004 - val_accuracy: 0.7200\n",
      "Epoch 49/100\n",
      "696/696 [==============================] - 4s 5ms/step - loss: 0.7834 - accuracy: 0.7112 - val_loss: 0.8372 - val_accuracy: 0.7486\n",
      "Epoch 50/100\n",
      "696/696 [==============================] - 4s 6ms/step - loss: 0.8205 - accuracy: 0.7299 - val_loss: 0.7982 - val_accuracy: 0.7086\n",
      "Epoch 51/100\n",
      "696/696 [==============================] - 3s 5ms/step - loss: 0.8336 - accuracy: 0.7112 - val_loss: 0.8270 - val_accuracy: 0.7200\n",
      "Epoch 52/100\n",
      "696/696 [==============================] - 3s 5ms/step - loss: 0.8261 - accuracy: 0.7170 - val_loss: 0.7990 - val_accuracy: 0.7200\n",
      "Epoch 53/100\n",
      "696/696 [==============================] - 3s 4ms/step - loss: 0.7739 - accuracy: 0.7241 - val_loss: 0.8005 - val_accuracy: 0.7371\n",
      "Epoch 54/100\n",
      "696/696 [==============================] - 3s 5ms/step - loss: 0.8218 - accuracy: 0.7270 - val_loss: 0.7904 - val_accuracy: 0.7200\n",
      "Epoch 55/100\n",
      "696/696 [==============================] - 3s 4ms/step - loss: 0.8242 - accuracy: 0.7313 - val_loss: 0.8547 - val_accuracy: 0.7714\n",
      "Epoch 56/100\n",
      "696/696 [==============================] - 3s 4ms/step - loss: 0.7810 - accuracy: 0.7356 - val_loss: 0.7902 - val_accuracy: 0.7771\n",
      "Epoch 57/100\n"
     ]
    },
    {
     "name": "stdout",
     "output_type": "stream",
     "text": [
      "696/696 [==============================] - 3s 4ms/step - loss: 0.7759 - accuracy: 0.7256 - val_loss: 0.8262 - val_accuracy: 0.7486\n",
      "Epoch 58/100\n",
      "696/696 [==============================] - 3s 5ms/step - loss: 0.7785 - accuracy: 0.7356 - val_loss: 0.7926 - val_accuracy: 0.7600\n",
      "Epoch 59/100\n",
      "696/696 [==============================] - 3s 5ms/step - loss: 0.7323 - accuracy: 0.7457 - val_loss: 0.7716 - val_accuracy: 0.7657\n",
      "Epoch 60/100\n",
      "696/696 [==============================] - 3s 4ms/step - loss: 0.7965 - accuracy: 0.7443 - val_loss: 0.8026 - val_accuracy: 0.8000\n",
      "Epoch 61/100\n",
      "696/696 [==============================] - 3s 5ms/step - loss: 0.7333 - accuracy: 0.7486 - val_loss: 0.8025 - val_accuracy: 0.7886\n",
      "Epoch 62/100\n",
      "696/696 [==============================] - 5s 7ms/step - loss: 0.7384 - accuracy: 0.7514 - val_loss: 0.7734 - val_accuracy: 0.7543\n",
      "Epoch 63/100\n",
      "696/696 [==============================] - 4s 6ms/step - loss: 0.7309 - accuracy: 0.7644 - val_loss: 0.7948 - val_accuracy: 0.8171\n",
      "Epoch 64/100\n",
      "696/696 [==============================] - 3s 5ms/step - loss: 0.7210 - accuracy: 0.7486 - val_loss: 0.8265 - val_accuracy: 0.8114\n",
      "Epoch 65/100\n",
      "696/696 [==============================] - 3s 5ms/step - loss: 0.7309 - accuracy: 0.7500 - val_loss: 0.7589 - val_accuracy: 0.8057\n",
      "Epoch 66/100\n",
      "696/696 [==============================] - 3s 5ms/step - loss: 0.7839 - accuracy: 0.7284 - val_loss: 0.7711 - val_accuracy: 0.7486\n",
      "Epoch 67/100\n",
      "696/696 [==============================] - 3s 4ms/step - loss: 0.7252 - accuracy: 0.7457 - val_loss: 0.7863 - val_accuracy: 0.8000\n",
      "Epoch 68/100\n",
      "696/696 [==============================] - 3s 4ms/step - loss: 0.7212 - accuracy: 0.7486 - val_loss: 0.8604 - val_accuracy: 0.7657\n",
      "Epoch 69/100\n",
      "696/696 [==============================] - 3s 5ms/step - loss: 0.7360 - accuracy: 0.7399 - val_loss: 0.7734 - val_accuracy: 0.8000\n",
      "Epoch 70/100\n",
      "696/696 [==============================] - 4s 5ms/step - loss: 0.7195 - accuracy: 0.7672 - val_loss: 0.7959 - val_accuracy: 0.8171\n",
      "Epoch 71/100\n",
      "696/696 [==============================] - 4s 6ms/step - loss: 0.7043 - accuracy: 0.7500 - val_loss: 0.7395 - val_accuracy: 0.8057\n",
      "Epoch 72/100\n",
      "696/696 [==============================] - 4s 6ms/step - loss: 0.7490 - accuracy: 0.7385 - val_loss: 0.7592 - val_accuracy: 0.8114\n",
      "Epoch 73/100\n",
      "696/696 [==============================] - 4s 6ms/step - loss: 0.6689 - accuracy: 0.7859 - val_loss: 0.7348 - val_accuracy: 0.8114\n",
      "Epoch 74/100\n",
      "696/696 [==============================] - 4s 5ms/step - loss: 0.6866 - accuracy: 0.7658 - val_loss: 0.7349 - val_accuracy: 0.8057\n",
      "Epoch 75/100\n",
      "696/696 [==============================] - 3s 5ms/step - loss: 0.6800 - accuracy: 0.7672 - val_loss: 0.7839 - val_accuracy: 0.8057\n",
      "Epoch 76/100\n",
      "696/696 [==============================] - 3s 5ms/step - loss: 0.6931 - accuracy: 0.7701 - val_loss: 0.7411 - val_accuracy: 0.8343\n",
      "Epoch 77/100\n",
      "696/696 [==============================] - 3s 5ms/step - loss: 0.6822 - accuracy: 0.7730 - val_loss: 0.7351 - val_accuracy: 0.8286\n",
      "Epoch 78/100\n",
      "696/696 [==============================] - 3s 5ms/step - loss: 0.6963 - accuracy: 0.7557 - val_loss: 0.7640 - val_accuracy: 0.8000\n",
      "Epoch 79/100\n",
      "696/696 [==============================] - 3s 5ms/step - loss: 0.6916 - accuracy: 0.7500 - val_loss: 0.7322 - val_accuracy: 0.8229\n",
      "Epoch 80/100\n",
      "696/696 [==============================] - 3s 5ms/step - loss: 0.6966 - accuracy: 0.7672 - val_loss: 0.7270 - val_accuracy: 0.8229\n",
      "Epoch 81/100\n",
      "696/696 [==============================] - 3s 5ms/step - loss: 0.7038 - accuracy: 0.7716 - val_loss: 0.7349 - val_accuracy: 0.8171\n",
      "Epoch 82/100\n",
      "696/696 [==============================] - 3s 5ms/step - loss: 0.6847 - accuracy: 0.7816 - val_loss: 0.7223 - val_accuracy: 0.7771\n",
      "Epoch 83/100\n",
      "696/696 [==============================] - 3s 5ms/step - loss: 0.6477 - accuracy: 0.7888 - val_loss: 0.7122 - val_accuracy: 0.8229\n",
      "Epoch 84/100\n",
      "696/696 [==============================] - 4s 5ms/step - loss: 0.6517 - accuracy: 0.7759 - val_loss: 0.7371 - val_accuracy: 0.8343\n",
      "Epoch 85/100\n",
      "696/696 [==============================] - 4s 5ms/step - loss: 0.6417 - accuracy: 0.7859 - val_loss: 0.7098 - val_accuracy: 0.8171\n",
      "Epoch 86/100\n",
      "696/696 [==============================] - 4s 5ms/step - loss: 0.6462 - accuracy: 0.7845 - val_loss: 0.7238 - val_accuracy: 0.8229\n",
      "Epoch 87/100\n",
      "696/696 [==============================] - 4s 5ms/step - loss: 0.6448 - accuracy: 0.7874 - val_loss: 0.7322 - val_accuracy: 0.7657\n",
      "Epoch 88/100\n",
      "696/696 [==============================] - 3s 5ms/step - loss: 0.6154 - accuracy: 0.7874 - val_loss: 0.7449 - val_accuracy: 0.8229\n",
      "Epoch 89/100\n",
      "696/696 [==============================] - 3s 5ms/step - loss: 0.6225 - accuracy: 0.7974 - val_loss: 0.7076 - val_accuracy: 0.7714\n",
      "Epoch 90/100\n",
      "696/696 [==============================] - 4s 5ms/step - loss: 0.6439 - accuracy: 0.7586 - val_loss: 0.7308 - val_accuracy: 0.8229\n",
      "Epoch 91/100\n",
      "696/696 [==============================] - 4s 5ms/step - loss: 0.6343 - accuracy: 0.7773 - val_loss: 0.7194 - val_accuracy: 0.8057\n",
      "Epoch 92/100\n",
      "696/696 [==============================] - 3s 5ms/step - loss: 0.6075 - accuracy: 0.7974 - val_loss: 0.6960 - val_accuracy: 0.8229\n",
      "Epoch 93/100\n",
      "696/696 [==============================] - 4s 5ms/step - loss: 0.5776 - accuracy: 0.8089 - val_loss: 0.6865 - val_accuracy: 0.8229\n",
      "Epoch 94/100\n",
      "696/696 [==============================] - 4s 5ms/step - loss: 0.6581 - accuracy: 0.8017 - val_loss: 0.7289 - val_accuracy: 0.8114\n",
      "Epoch 95/100\n",
      "696/696 [==============================] - 4s 5ms/step - loss: 0.6331 - accuracy: 0.8060 - val_loss: 0.7317 - val_accuracy: 0.8114\n",
      "Epoch 96/100\n",
      "696/696 [==============================] - 4s 5ms/step - loss: 0.6315 - accuracy: 0.8003 - val_loss: 0.7420 - val_accuracy: 0.7771\n",
      "Epoch 97/100\n",
      "696/696 [==============================] - 4s 5ms/step - loss: 0.6349 - accuracy: 0.7672 - val_loss: 0.7054 - val_accuracy: 0.8000\n",
      "Epoch 98/100\n",
      "696/696 [==============================] - 4s 5ms/step - loss: 0.6139 - accuracy: 0.7974 - val_loss: 0.8552 - val_accuracy: 0.7714\n",
      "Epoch 99/100\n",
      "696/696 [==============================] - 4s 5ms/step - loss: 0.6753 - accuracy: 0.7859 - val_loss: 0.7186 - val_accuracy: 0.8171\n",
      "Epoch 100/100\n",
      "696/696 [==============================] - 4s 5ms/step - loss: 0.5739 - accuracy: 0.7960 - val_loss: 0.7487 - val_accuracy: 0.7886\n"
     ]
    }
   ],
   "source": [
    "model_fit = model.fit(X_train, y_train, \n",
    "                      batch_size = batch_size,\n",
    "                      epochs = epochs,\n",
    "                      verbose = 1,\n",
    "                      validation_data = (X_test, y_test))"
   ]
  },
  {
   "cell_type": "code",
   "execution_count": 94,
   "metadata": {},
   "outputs": [],
   "source": [
    "# Guardar los pesos del modelo\n",
    "model.save('model_fit_1.h5py')"
   ]
  },
  {
   "cell_type": "code",
   "execution_count": 95,
   "metadata": {},
   "outputs": [],
   "source": [
    "#from keras.models import load_model\n",
    "#model_fit = load_model('model_fit_1.h5py')\n",
    "#model.summary()"
   ]
  },
  {
   "cell_type": "markdown",
   "metadata": {},
   "source": [
    "### 7. Resultados"
   ]
  },
  {
   "cell_type": "code",
   "execution_count": 96,
   "metadata": {},
   "outputs": [
    {
     "name": "stdout",
     "output_type": "stream",
     "text": [
      "218/218 [==============================] - 1s 6ms/step\n"
     ]
    }
   ],
   "source": [
    "test_eval = model.evaluate(test_X, test_y_one_hot, verbose = 1)"
   ]
  },
  {
   "cell_type": "code",
   "execution_count": 97,
   "metadata": {},
   "outputs": [
    {
     "name": "stdout",
     "output_type": "stream",
     "text": [
      "Test loss:  0.630951723374358\n",
      "Test accuracy:  0.8348624110221863\n"
     ]
    }
   ],
   "source": [
    "print('Test loss: ', test_eval[0])\n",
    "print('Test accuracy: ', test_eval[1])"
   ]
  },
  {
   "cell_type": "code",
   "execution_count": 98,
   "metadata": {},
   "outputs": [
    {
     "data": {
      "image/png": "[encoded data removed]",
      "text/plain": [
       "<Figure size 432x288 with 1 Axes>"
      ]
     },
     "metadata": {
      "needs_background": "light"
     },
     "output_type": "display_data"
    }
   ],
   "source": [
    "# hacemos las grafica 1 precision\n",
    "plt.plot(model_fit.history['accuracy'])\n",
    "plt.plot(model_fit.history['val_accuracy'])\n",
    "plt.title('Precision del modelo')\n",
    "plt.ylabel('Precision')\n",
    "plt.xlabel('epocas')\n",
    "plt.legend(['Entrenamiento', 'test'], loc='upper left')\n",
    "plt.show()"
   ]
  },
  {
   "cell_type": "code",
   "execution_count": 99,
   "metadata": {},
   "outputs": [
    {
     "data": {
      "image/png": "[encoded data removed]",
      "text/plain": [
       "<Figure size 432x288 with 1 Axes>"
      ]
     },
     "metadata": {
      "needs_background": "light"
     },
     "output_type": "display_data"
    }
   ],
   "source": [
    "# hacemos las grafica 2 perdidas\n",
    "plt.plot(model_fit.history['loss'])\n",
    "plt.plot(model_fit.history['val_loss'])\n",
    "plt.title('Perdidas del modelo')\n",
    "plt.ylabel('perdidas')\n",
    "plt.xlabel('epocas')\n",
    "plt.legend(['Entrenamiento', 'test'], loc='upper left')\n",
    "plt.show()"
   ]
  },
  {
   "cell_type": "code",
   "execution_count": 100,
   "metadata": {},
   "outputs": [],
   "source": [
    "# prediccion del conjunto test_X\n",
    "predicted_classes2 = model.predict(test_X)"
   ]
  },
  {
   "cell_type": "code",
   "execution_count": 101,
   "metadata": {},
   "outputs": [],
   "source": [
    "# lista para guardar las predicciones\n",
    "predicted_classes = []\n",
    "for predicted_s in predicted_classes2:\n",
    "    predicted_classes.append(predicted_s.tolist().index(max(predicted_s)))\n",
    "predicted_classes = np.array(predicted_classes)"
   ]
  },
  {
   "cell_type": "code",
   "execution_count": 102,
   "metadata": {},
   "outputs": [
    {
     "data": {
      "text/plain": [
       "((218,), (218,))"
      ]
     },
     "execution_count": 102,
     "metadata": {},
     "output_type": "execute_result"
    }
   ],
   "source": [
    "# Predicciones\n",
    "predicted_classes.shape, test_Y.shape"
   ]
  },
  {
   "cell_type": "markdown",
   "metadata": {},
   "source": [
    "**Verificacion de predicciones**"
   ]
  },
  {
   "cell_type": "code",
   "execution_count": 103,
   "metadata": {},
   "outputs": [
    {
     "name": "stdout",
     "output_type": "stream",
     "text": [
      "Se encontraron 182 predicciones correctas\n"
     ]
    }
   ],
   "source": [
    "# verificacion de las predicciones correctas\n",
    "correct = np.where(predicted_classes == test_Y)[0]\n",
    "print('Se encontraron {} predicciones correctas'.format(len(correct)))"
   ]
  },
  {
   "cell_type": "code",
   "execution_count": 104,
   "metadata": {},
   "outputs": [
    {
     "data": {
      "image/png": "[encoded data removed]",
      "text/plain": [
       "<Figure size 432x288 with 1 Axes>"
      ]
     },
     "metadata": {
      "needs_background": "light"
     },
     "output_type": "display_data"
    }
   ],
   "source": [
    "# grafico de predicciones correctas\n",
    "for i, correct in enumerate(correct[0:1]):\n",
    "    plt.subplot(3,3,i+1)\n",
    "    plt.imshow(test_X[correct], cmap = 'gray')\n",
    "    plt.title('{}, {}'.format(cafes[predicted_classes[correct]],\n",
    "                              cafes[test_Y[correct]]))\n",
    "    plt.tight_layout()"
   ]
  },
  {
   "cell_type": "markdown",
   "metadata": {},
   "source": [
    "En esta etapa se observa que se clasificaron bien 182 imagenes de un total de 218 imagenes de validacion, en el ejemplo se observa que un cafe Inmaduro fue efectivamente clasificado como Inmaduro."
   ]
  },
  {
   "cell_type": "code",
   "execution_count": 107,
   "metadata": {},
   "outputs": [
    {
     "name": "stdout",
     "output_type": "stream",
     "text": [
      "Se encontraron 36 predicciones INcorrectas\n"
     ]
    }
   ],
   "source": [
    "# verificacion de las predicciones INcorrectas\n",
    "incorrect = np.where(predicted_classes != test_Y)[0]\n",
    "print('Se encontraron {} predicciones INcorrectas'.format(len(incorrect)))"
   ]
  },
  {
   "cell_type": "code",
   "execution_count": 108,
   "metadata": {},
   "outputs": [
    {
     "data": {
      "image/png": "[encoded data removed]",
      "text/plain": [
       "<Figure size 432x288 with 1 Axes>"
      ]
     },
     "metadata": {
      "needs_background": "light"
     },
     "output_type": "display_data"
    }
   ],
   "source": [
    "# grafico de predicciones INcorrectas\n",
    "for i, incorrect in enumerate(incorrect[0:1]):\n",
    "    plt.subplot(3,3,i+1)\n",
    "    plt.imshow(test_X[incorrect], cmap = 'gray')\n",
    "    plt.title('{}, {}'.format(cafes[predicted_classes[incorrect]],\n",
    "                              cafes[test_Y[incorrect]]))\n",
    "    plt.tight_layout()"
   ]
  },
  {
   "cell_type": "markdown",
   "metadata": {},
   "source": [
    "En esta etapa se observa que se clasificaron mal 36 imagenes de un total de 218 imagenes de validacion, en el ejemplo se observa que un cafe Decolorado fue mal clasificado como Vinagre."
   ]
  },
  {
   "cell_type": "code",
   "execution_count": 109,
   "metadata": {},
   "outputs": [
    {
     "name": "stdout",
     "output_type": "stream",
     "text": [
      "              precision    recall  f1-score   support\n",
      "\n",
      "     class 0       0.57      0.22      0.32        18\n",
      "     class 1       0.58      0.54      0.56        13\n",
      "     class 2       1.00      1.00      1.00        43\n",
      "     class 3       0.95      0.77      0.85        53\n",
      "     class 4       1.00      1.00      1.00        33\n",
      "     class 5       0.68      0.92      0.78        25\n",
      "     class 6       1.00      1.00      1.00        18\n",
      "     class 7       0.46      0.87      0.60        15\n",
      "\n",
      "   micro avg       0.83      0.83      0.83       218\n",
      "   macro avg       0.78      0.79      0.76       218\n",
      "weighted avg       0.85      0.83      0.83       218\n",
      "\n"
     ]
    }
   ],
   "source": [
    "# resumen de estadisticos\n",
    "target_names = ['class {}'.format(i) for i in range(nClasses)]\n",
    "print(classification_report(test_Y, predicted_classes, target_names = target_names))"
   ]
  },
  {
   "cell_type": "code",
   "execution_count": 110,
   "metadata": {},
   "outputs": [
    {
     "name": "stdout",
     "output_type": "stream",
     "text": [
      "El f1 score es de:  0.8296886522886359\n",
      "El acc score es de:  0.8348623853211009\n",
      "La precision es de:  0.8348623853211009\n",
      "El f1 score es de:  0.8348623853211009\n"
     ]
    },
    {
     "data": {
      "image/png": "[encoded data removed]",
      "text/plain": [
       "<Figure size 720x720 with 2 Axes>"
      ]
     },
     "metadata": {
      "needs_background": "light"
     },
     "output_type": "display_data"
    }
   ],
   "source": [
    "# Metricas\n",
    "evaluate_model(test_Y, predicted_classes)\n",
    "matconfision(test_Y, predicted_classes)"
   ]
  },
  {
   "cell_type": "markdown",
   "metadata": {},
   "source": [
    "**Resultados**\n",
    "\n",
    "1. De las graficas de perdida y precision no se observa aparente sobre ajuste, aunque incialmente se sospecha que hay sobreajuste por las pocas imagenes con las que se cuenta. \n",
    "2. Para validation secuenta con 218 imagenes, de las cuales 182 fueron bien predichas y 36 mal predichas.\n",
    "3. Para la clase 0: Arrugados y la clase 1: Broca, el modelo CNN no se ajusta bien, esto se debe a las pocas imagenes con las que se cuenta.\n",
    "4. El acc para validation es del 83.48%, este resultado debe de tomarse con cuidado ya que como se explica en el numeral 3 hay dos clases que no son pronosticadas bien, el acc es afectado por las categorias que tienen alta precision y por lo tanto este resultado puede y esta inflado."
   ]
  },
  {
   "cell_type": "markdown",
   "metadata": {},
   "source": [
    "\n",
    "## 2. Solucion Modelo ML\n",
    "\n",
    "Se eligen dos modelos, el primero una regresion logistica LR y un random forest RF. De un analisis de diseño de experimento se obtiene que solo se necesitan tres caracteristicas, forma, defecto y color, por lo que solamente es necesario tener las imagenes en escala de grises. \n",
    "\n",
    "###  1. Importar librerías."
   ]
  },
  {
   "cell_type": "code",
   "execution_count": 54,
   "metadata": {},
   "outputs": [],
   "source": [
    "import numpy as np\n",
    "import pandas as pd\n",
    "import os\n",
    "import re\n",
    "import matplotlib.pyplot as plt\n",
    "import cv2\n",
    "import seaborn as sns\n",
    "\n",
    "from sklearn.model_selection import train_test_split\n",
    "\n",
    "from sklearn.linear_model import LogisticRegression\n",
    "from sklearn.ensemble import RandomForestClassifier\n",
    "\n",
    "from sklearn.metrics import confusion_matrix, accuracy_score, f1_score, precision_score, recall_score\n",
    "\n",
    "import seaborn as sns\n",
    "\n",
    "from sklearn.preprocessing import StandardScaler\n",
    "scaler = StandardScaler()"
   ]
  },
  {
   "cell_type": "code",
   "execution_count": 71,
   "metadata": {},
   "outputs": [],
   "source": [
    "### FUNCIONES AUXILIARES\n",
    "\n",
    "def evaluate_model(y_test, y_pred, model = None):\n",
    "    \"\"\"\n",
    "    Aqui se pondran las cuatro metricas que se piden en el reporte\n",
    "    debido a que cada modelo requiere las mismas metricas es probable que se pueda ejecutar el mismo para todas\n",
    "    \"\"\"\n",
    "    f1 = print('El f1 score es de: ', f1_score(y_test, y_pred, average = 'weighted'))\n",
    "    acc = print('El acc score es de: ', accuracy_score(y_test, y_pred))\n",
    "    ps = print('La precision es de: ', precision_score(y_test, y_pred, average='micro'))\n",
    "    re = print('El f1 score es de: ', recall_score(y_test, y_pred, average='micro'))\n",
    "    \n",
    "    return f1, acc, ps, re\n",
    "\n",
    "\n",
    "\n",
    "def matconfision(y_test, y_pred):\n",
    "    '''EN ESTA FUNCION ENTRAN LAS Y ORIGINALES Y LAS PREDICCIONES PARA CREAR UNA MATRIZ DE CONFUSION MAS BONITA'''\n",
    "    \n",
    "    cm = confusion_matrix(y_test, y_pred)\n",
    "    cmn = cm.astype('float') / cm.sum(axis=1)[:, np.newaxis]\n",
    "    target_names = set(y)\n",
    "    \n",
    "    fig, ax = plt.subplots(figsize = (10,10))\n",
    "    sns.heatmap(cmn, annot=True, fmt='.2f', xticklabels=target_names, yticklabels=target_names)\n",
    "    plt.xlabel('Predicted')\n",
    "    \n",
    "    return plt.show(block=False)"
   ]
  },
  {
   "cell_type": "markdown",
   "metadata": {},
   "source": [
    "###  2. Cargar las  imágenes a la memoria. (se uso PC)\n",
    "\n",
    "Se realiza la lectura y carga a memoria de las imagenes solamente las imagenes originales, leidas en escala de grises, aplanadas y almacenadas en un dataframe. Este proceso es necesario realizarlo solo una 1 vez, ya que el dataframe se guardara automaticamente en la misma carpeta."
   ]
  },
  {
   "cell_type": "code",
   "execution_count": 55,
   "metadata": {},
   "outputs": [
    {
     "name": "stdout",
     "output_type": "stream",
     "text": [
      "leyendo imagenes de  C:\\Users\\SERGIOANDRES\\Desktop\\Actividad 1\\Final\\fotos3\\\n",
      "C:\\Users\\SERGIOANDRES\\Desktop\\Actividad 1\\Final\\fotos3\\Arrugados 1\n",
      "C:\\Users\\SERGIOANDRES\\Desktop\\Actividad 1\\Final\\fotos3\\Broca 70\n",
      "C:\\Users\\SERGIOANDRES\\Desktop\\Actividad 1\\Final\\fotos3\\Buenos 90\n",
      "C:\\Users\\SERGIOANDRES\\Desktop\\Actividad 1\\Final\\fotos3\\Decolorado 191\n",
      "C:\\Users\\SERGIOANDRES\\Desktop\\Actividad 1\\Final\\fotos3\\Inmaduro 200\n",
      "C:\\Users\\SERGIOANDRES\\Desktop\\Actividad 1\\Final\\fotos3\\Mordido 200\n",
      "C:\\Users\\SERGIOANDRES\\Desktop\\Actividad 1\\Final\\fotos3\\Negro 123\n",
      "C:\\Users\\SERGIOANDRES\\Desktop\\Actividad 1\\Final\\fotos3\\Vinagre 101\n",
      "Directorios leidos:  8\n",
      "Imagenes en cada directorios [71, 90, 191, 200, 200, 123, 101, 113]\n",
      "Suma total de imagenes en subdirs 1089\n"
     ]
    }
   ],
   "source": [
    "# se para en la carpeta sportimages\n",
    "dirname = os.path.join(os.getcwd(), 'fotos3') \n",
    "imgpath = dirname + os.sep\n",
    "\n",
    "db = []\n",
    "images = []                  # lista para guardar las imagenes\n",
    "directories = []             # lista de nombres de las carpetas donde estan las imagenes\n",
    "dircount = []                # lista de imagenes por carpeta\n",
    "prevRoot = ''\n",
    "cant = 0                     # variable para contar imagenes\n",
    "\n",
    "print('leyendo imagenes de ', imgpath)\n",
    "\n",
    "for root, dirnames, filenames in os.walk(imgpath):                  # itera sobre lo que hay en sportimages \n",
    "    for filename in filenames:                                      # itera sobre la lista de los nombres de las carpetas de sportimages\n",
    "        cant = cant + 1                                             # por cada objeto encontrado suma 1 a cant\n",
    "        filepath = os.path.join(root, filename)                     # direccion de cada imagen\n",
    "        gray = cv2.imread(filepath,cv2.IMREAD_GRAYSCALE)           # lee la imagen\n",
    "        \n",
    "        image = cv2.resize(gray, (28, 28), interpolation = cv2.INTER_NEAREST)  ### re escalar\n",
    "        image = image.flatten()\n",
    "        db.append(image)\n",
    "        \n",
    "        #to = cv2.cvtColor(image, cv2.COLOR_BGR2RGB)                              ### guardar\n",
    "        #cv2.imwrite(filepath, to)                                                ### guardar\n",
    "        \n",
    "        images.append(image)                                        # guarda las imagenes en la lista images\n",
    "        b = 'Leyendo...' + str(cant)                                # concatena palabra leyendo y numero de imagen\n",
    "        print(b, end = '\\r')                                        # imprime linea anterior\n",
    "        if prevRoot != root:                                        # revisa si se leyeron todas las imagenes de la \n",
    "            print(root, cant)                                       # carpeta, para continuar la lectura de las imagenes \n",
    "            prevRoot = root                                         # de otra carpeta\n",
    "            directories.append(root)\n",
    "            dircount.append(cant)\n",
    "            cant = 0\n",
    "dircount.append(cant)\n",
    "dircount = dircount[1:]\n",
    "dircount[0] = dircount[0] + 1\n",
    "print('Directorios leidos: ', len(directories))         \n",
    "print('Imagenes en cada directorios', dircount)\n",
    "print('Suma total de imagenes en subdirs', sum(dircount))\n",
    "db = np.array(db)\n",
    "db2 = pd.DataFrame(db)"
   ]
  },
  {
   "cell_type": "markdown",
   "metadata": {},
   "source": [
    "### 3. Crear dinámicamente las etiquetas de resultado. (etiquetado)\n",
    "\n",
    "Se crean las etiquetas y se guardan en la lista labels, se le asigna un numero desde 0 a 7 por orden de lectura. Esto se realiza por ser un algoritmo supervisado.\n",
    "\n",
    "    * Arrugados Etiqueta 0.\n",
    "    * Broca Etiqueta 1.\n",
    "    * Buenos Etiqueta 2.\n",
    "    * Decolorados Etiqueta 3.\n",
    "    * Inmaduro Etiqueta 4.\n",
    "    * Mordido Etiqueta 5.\n",
    "    * Negro Etiqueta 6.\n",
    "    * Vinagre Etiqueta 7\n"
   ]
  },
  {
   "cell_type": "code",
   "execution_count": 56,
   "metadata": {},
   "outputs": [
    {
     "name": "stdout",
     "output_type": "stream",
     "text": [
      "Cantidad etiquetas creadas:  1089\n"
     ]
    }
   ],
   "source": [
    "# lista para guardar las etiquetas\n",
    "labels = []\n",
    "indice = 0\n",
    "# itelador sobre la lista de cantidades de fotos \n",
    "for cantidad in dircount:\n",
    "    for i in range(cantidad):                            # itera sore la cantidad de fotos por carpeta\n",
    "        labels.append(indice)                            # etiqueta con 0 la primera carpeta con 1 la siguiente .....hasta 9\n",
    "    indice = indice + 1                                  # incrementa el indice para cambiar de carpeta\n",
    "print('Cantidad etiquetas creadas: ', len(labels))"
   ]
  },
  {
   "cell_type": "code",
   "execution_count": 57,
   "metadata": {},
   "outputs": [
    {
     "data": {
      "text/html": [
       "<div>\n",
       "<style scoped>\n",
       "    .dataframe tbody tr th:only-of-type {\n",
       "        vertical-align: middle;\n",
       "    }\n",
       "\n",
       "    .dataframe tbody tr th {\n",
       "        vertical-align: top;\n",
       "    }\n",
       "\n",
       "    .dataframe thead th {\n",
       "        text-align: right;\n",
       "    }\n",
       "</style>\n",
       "<table border=\"1\" class=\"dataframe\">\n",
       "  <thead>\n",
       "    <tr style=\"text-align: right;\">\n",
       "      <th></th>\n",
       "      <th>Clase</th>\n",
       "    </tr>\n",
       "  </thead>\n",
       "  <tbody>\n",
       "    <tr>\n",
       "      <th>0</th>\n",
       "      <td>0</td>\n",
       "    </tr>\n",
       "    <tr>\n",
       "      <th>1</th>\n",
       "      <td>0</td>\n",
       "    </tr>\n",
       "    <tr>\n",
       "      <th>2</th>\n",
       "      <td>0</td>\n",
       "    </tr>\n",
       "    <tr>\n",
       "      <th>3</th>\n",
       "      <td>0</td>\n",
       "    </tr>\n",
       "    <tr>\n",
       "      <th>4</th>\n",
       "      <td>0</td>\n",
       "    </tr>\n",
       "  </tbody>\n",
       "</table>\n",
       "</div>"
      ],
      "text/plain": [
       "   Clase\n",
       "0      0\n",
       "1      0\n",
       "2      0\n",
       "3      0\n",
       "4      0"
      ]
     },
     "execution_count": 57,
     "metadata": {},
     "output_type": "execute_result"
    }
   ],
   "source": [
    "clase = pd.DataFrame(labels)\n",
    "clase.columns = ['Clase']\n",
    "clase.head()"
   ]
  },
  {
   "cell_type": "markdown",
   "metadata": {},
   "source": [
    "### 4. Creacion del DataFrame donde se almacenan las imagenes.\n",
    "\n",
    "Guardado de en un dataframe almacenado en csv, luego la lectura de este mismo."
   ]
  },
  {
   "cell_type": "code",
   "execution_count": 58,
   "metadata": {},
   "outputs": [],
   "source": [
    "fotos = pd.concat([db2, clase], axis = 1)\n",
    "fotos.to_csv('fotos.csv', index = False)"
   ]
  },
  {
   "cell_type": "code",
   "execution_count": 59,
   "metadata": {},
   "outputs": [
    {
     "data": {
      "text/html": [
       "<div>\n",
       "<style scoped>\n",
       "    .dataframe tbody tr th:only-of-type {\n",
       "        vertical-align: middle;\n",
       "    }\n",
       "\n",
       "    .dataframe tbody tr th {\n",
       "        vertical-align: top;\n",
       "    }\n",
       "\n",
       "    .dataframe thead th {\n",
       "        text-align: right;\n",
       "    }\n",
       "</style>\n",
       "<table border=\"1\" class=\"dataframe\">\n",
       "  <thead>\n",
       "    <tr style=\"text-align: right;\">\n",
       "      <th></th>\n",
       "      <th>0</th>\n",
       "      <th>1</th>\n",
       "      <th>2</th>\n",
       "      <th>3</th>\n",
       "      <th>4</th>\n",
       "      <th>5</th>\n",
       "      <th>6</th>\n",
       "      <th>7</th>\n",
       "      <th>8</th>\n",
       "      <th>9</th>\n",
       "      <th>...</th>\n",
       "      <th>775</th>\n",
       "      <th>776</th>\n",
       "      <th>777</th>\n",
       "      <th>778</th>\n",
       "      <th>779</th>\n",
       "      <th>780</th>\n",
       "      <th>781</th>\n",
       "      <th>782</th>\n",
       "      <th>783</th>\n",
       "      <th>Clase</th>\n",
       "    </tr>\n",
       "  </thead>\n",
       "  <tbody>\n",
       "    <tr>\n",
       "      <th>0</th>\n",
       "      <td>211</td>\n",
       "      <td>210</td>\n",
       "      <td>207</td>\n",
       "      <td>206</td>\n",
       "      <td>207</td>\n",
       "      <td>205</td>\n",
       "      <td>202</td>\n",
       "      <td>204</td>\n",
       "      <td>205</td>\n",
       "      <td>205</td>\n",
       "      <td>...</td>\n",
       "      <td>194</td>\n",
       "      <td>189</td>\n",
       "      <td>190</td>\n",
       "      <td>179</td>\n",
       "      <td>195</td>\n",
       "      <td>186</td>\n",
       "      <td>190</td>\n",
       "      <td>187</td>\n",
       "      <td>189</td>\n",
       "      <td>0</td>\n",
       "    </tr>\n",
       "    <tr>\n",
       "      <th>1</th>\n",
       "      <td>211</td>\n",
       "      <td>211</td>\n",
       "      <td>210</td>\n",
       "      <td>204</td>\n",
       "      <td>206</td>\n",
       "      <td>202</td>\n",
       "      <td>203</td>\n",
       "      <td>204</td>\n",
       "      <td>205</td>\n",
       "      <td>206</td>\n",
       "      <td>...</td>\n",
       "      <td>189</td>\n",
       "      <td>189</td>\n",
       "      <td>194</td>\n",
       "      <td>189</td>\n",
       "      <td>191</td>\n",
       "      <td>190</td>\n",
       "      <td>190</td>\n",
       "      <td>187</td>\n",
       "      <td>176</td>\n",
       "      <td>0</td>\n",
       "    </tr>\n",
       "    <tr>\n",
       "      <th>2</th>\n",
       "      <td>209</td>\n",
       "      <td>211</td>\n",
       "      <td>209</td>\n",
       "      <td>205</td>\n",
       "      <td>204</td>\n",
       "      <td>201</td>\n",
       "      <td>203</td>\n",
       "      <td>204</td>\n",
       "      <td>205</td>\n",
       "      <td>204</td>\n",
       "      <td>...</td>\n",
       "      <td>190</td>\n",
       "      <td>195</td>\n",
       "      <td>187</td>\n",
       "      <td>190</td>\n",
       "      <td>201</td>\n",
       "      <td>183</td>\n",
       "      <td>190</td>\n",
       "      <td>189</td>\n",
       "      <td>189</td>\n",
       "      <td>0</td>\n",
       "    </tr>\n",
       "    <tr>\n",
       "      <th>3</th>\n",
       "      <td>211</td>\n",
       "      <td>210</td>\n",
       "      <td>207</td>\n",
       "      <td>203</td>\n",
       "      <td>204</td>\n",
       "      <td>203</td>\n",
       "      <td>204</td>\n",
       "      <td>206</td>\n",
       "      <td>207</td>\n",
       "      <td>206</td>\n",
       "      <td>...</td>\n",
       "      <td>191</td>\n",
       "      <td>190</td>\n",
       "      <td>190</td>\n",
       "      <td>188</td>\n",
       "      <td>186</td>\n",
       "      <td>193</td>\n",
       "      <td>185</td>\n",
       "      <td>190</td>\n",
       "      <td>197</td>\n",
       "      <td>0</td>\n",
       "    </tr>\n",
       "    <tr>\n",
       "      <th>4</th>\n",
       "      <td>208</td>\n",
       "      <td>209</td>\n",
       "      <td>207</td>\n",
       "      <td>207</td>\n",
       "      <td>206</td>\n",
       "      <td>203</td>\n",
       "      <td>207</td>\n",
       "      <td>206</td>\n",
       "      <td>204</td>\n",
       "      <td>206</td>\n",
       "      <td>...</td>\n",
       "      <td>188</td>\n",
       "      <td>187</td>\n",
       "      <td>188</td>\n",
       "      <td>190</td>\n",
       "      <td>195</td>\n",
       "      <td>190</td>\n",
       "      <td>191</td>\n",
       "      <td>190</td>\n",
       "      <td>190</td>\n",
       "      <td>0</td>\n",
       "    </tr>\n",
       "  </tbody>\n",
       "</table>\n",
       "<p>5 rows × 785 columns</p>\n",
       "</div>"
      ],
      "text/plain": [
       "     0    1    2    3    4    5    6    7    8    9  ...  775  776  777  778  \\\n",
       "0  211  210  207  206  207  205  202  204  205  205  ...  194  189  190  179   \n",
       "1  211  211  210  204  206  202  203  204  205  206  ...  189  189  194  189   \n",
       "2  209  211  209  205  204  201  203  204  205  204  ...  190  195  187  190   \n",
       "3  211  210  207  203  204  203  204  206  207  206  ...  191  190  190  188   \n",
       "4  208  209  207  207  206  203  207  206  204  206  ...  188  187  188  190   \n",
       "\n",
       "   779  780  781  782  783  Clase  \n",
       "0  195  186  190  187  189      0  \n",
       "1  191  190  190  187  176      0  \n",
       "2  201  183  190  189  189      0  \n",
       "3  186  193  185  190  197      0  \n",
       "4  195  190  191  190  190      0  \n",
       "\n",
       "[5 rows x 785 columns]"
      ]
     },
     "execution_count": 59,
     "metadata": {},
     "output_type": "execute_result"
    }
   ],
   "source": [
    "fotos = pd.read_csv('fotos.csv', sep = ',', decimal = '.', header = 0)\n",
    "fotos.head()"
   ]
  },
  {
   "cell_type": "markdown",
   "metadata": {},
   "source": [
    "### 5. Dividir en sets de Entrenamiento y Test.\n",
    "\n",
    "Se divide el dataset en 80-20 para entrenamiento y test respectivamente, y se re-escalan con la funcion StandardScaler() de sklearn para que el algoritmo sea mas eficiente."
   ]
  },
  {
   "cell_type": "code",
   "execution_count": 64,
   "metadata": {},
   "outputs": [
    {
     "data": {
      "text/plain": [
       "(1089,)"
      ]
     },
     "execution_count": 64,
     "metadata": {},
     "output_type": "execute_result"
    }
   ],
   "source": [
    "y = fotos['Clase']\n",
    "y.shape"
   ]
  },
  {
   "cell_type": "code",
   "execution_count": 65,
   "metadata": {},
   "outputs": [
    {
     "data": {
      "text/plain": [
       "(1089, 784)"
      ]
     },
     "execution_count": 65,
     "metadata": {},
     "output_type": "execute_result"
    }
   ],
   "source": [
    "X = fotos.copy()\n",
    "X = X.drop('Clase', axis = 1)\n",
    "X.shape"
   ]
  },
  {
   "cell_type": "code",
   "execution_count": 66,
   "metadata": {},
   "outputs": [],
   "source": [
    "X_train, X_test, y_train, y_test = train_test_split(X, y, test_size = 0.2, random_state = 123)"
   ]
  },
  {
   "cell_type": "code",
   "execution_count": 67,
   "metadata": {},
   "outputs": [
    {
     "name": "stderr",
     "output_type": "stream",
     "text": [
      "C:\\ProgramData\\Anaconda3\\lib\\site-packages\\sklearn\\preprocessing\\data.py:645: DataConversionWarning: Data with input dtype int64 were all converted to float64 by StandardScaler.\n",
      "  return self.partial_fit(X, y)\n",
      "C:\\ProgramData\\Anaconda3\\lib\\site-packages\\sklearn\\base.py:464: DataConversionWarning: Data with input dtype int64 were all converted to float64 by StandardScaler.\n",
      "  return self.fit(X, **fit_params).transform(X)\n",
      "C:\\ProgramData\\Anaconda3\\lib\\site-packages\\ipykernel_launcher.py:2: DataConversionWarning: Data with input dtype int64 were all converted to float64 by StandardScaler.\n",
      "  \n"
     ]
    }
   ],
   "source": [
    "X_train = scaler.fit_transform(X_train)\n",
    "X_test = scaler.transform(X_test)"
   ]
  },
  {
   "cell_type": "markdown",
   "metadata": {},
   "source": [
    "### 6. Crear el modelo de ML\n",
    "\n",
    "Se realizo el ajuste de dos modelos de ML, una Regresion Logistica LR que es un modelo clasico visto en clase, y un Random Forest RF. \n",
    "\n",
    "**Logistic Regression**\n",
    "\n",
    "Se utiliza un threshold de 0.5 y el metodo uno contratodos ya que se cuenta con mas de dos clases."
   ]
  },
  {
   "cell_type": "code",
   "execution_count": 68,
   "metadata": {},
   "outputs": [
    {
     "name": "stderr",
     "output_type": "stream",
     "text": [
      "C:\\ProgramData\\Anaconda3\\lib\\site-packages\\sklearn\\linear_model\\logistic.py:758: ConvergenceWarning: lbfgs failed to converge. Increase the number of iterations.\n",
      "  \"of iterations.\", ConvergenceWarning)\n"
     ]
    },
    {
     "data": {
      "text/plain": [
       "LogisticRegression(C=1.0, class_weight=None, dual=False, fit_intercept=True,\n",
       "          intercept_scaling=1, max_iter=100, multi_class='multinomial',\n",
       "          n_jobs=None, penalty='l2', random_state=123, solver='lbfgs',\n",
       "          tol=0.0001, verbose=0, warm_start=False)"
      ]
     },
     "execution_count": 68,
     "metadata": {},
     "output_type": "execute_result"
    }
   ],
   "source": [
    "clf_log = LogisticRegression(random_state = 123, solver = 'lbfgs', multi_class = 'multinomial')\n",
    "clf_log.fit(X_train, y_train)"
   ]
  },
  {
   "cell_type": "markdown",
   "metadata": {},
   "source": [
    "**Random Forest**"
   ]
  },
  {
   "cell_type": "code",
   "execution_count": 69,
   "metadata": {},
   "outputs": [
    {
     "data": {
      "text/plain": [
       "RandomForestClassifier(bootstrap=True, class_weight=None, criterion='gini',\n",
       "            max_depth=None, max_features='auto', max_leaf_nodes=None,\n",
       "            min_impurity_decrease=0.0, min_impurity_split=None,\n",
       "            min_samples_leaf=1, min_samples_split=2,\n",
       "            min_weight_fraction_leaf=0.0, n_estimators=20, n_jobs=None,\n",
       "            oob_score=False, random_state=123, verbose=0, warm_start=False)"
      ]
     },
     "execution_count": 69,
     "metadata": {},
     "output_type": "execute_result"
    }
   ],
   "source": [
    "# AJUSTAR EL MODELO CON 2O ARBOLES\n",
    "clasificador = RandomForestClassifier(n_estimators = 20, random_state = 123)\n",
    "clasificador.fit(X_train, y_train)"
   ]
  },
  {
   "cell_type": "markdown",
   "metadata": {},
   "source": [
    "### 7. Resultados. \n",
    "\n",
    "A continuacion, se imprimen unas metricas, sin embargo, la metrica que se tendra en cuenta es la matriz de confucion. \n",
    "\n",
    "**Logistic Regression**"
   ]
  },
  {
   "cell_type": "code",
   "execution_count": 72,
   "metadata": {},
   "outputs": [
    {
     "name": "stdout",
     "output_type": "stream",
     "text": [
      "El f1 score es de:  0.9768032188284316\n",
      "El acc score es de:  0.9770642201834863\n",
      "La precision es de:  0.9770642201834863\n",
      "El f1 score es de:  0.9770642201834863\n"
     ]
    },
    {
     "data": {
      "image/png": "[encoded data removed]",
      "text/plain": [
       "<Figure size 720x720 with 2 Axes>"
      ]
     },
     "metadata": {
      "needs_background": "light"
     },
     "output_type": "display_data"
    }
   ],
   "source": [
    "y_pred_LR = clf_log.predict(X_test)\n",
    "evaluate_model(y_test, y_pred_LR)\n",
    "matconfision(y_test, y_pred_LR)"
   ]
  },
  {
   "cell_type": "markdown",
   "metadata": {},
   "source": [
    "**Random Forest**"
   ]
  },
  {
   "cell_type": "code",
   "execution_count": 73,
   "metadata": {},
   "outputs": [
    {
     "name": "stdout",
     "output_type": "stream",
     "text": [
      "El f1 score es de:  0.942504826298286\n",
      "El acc score es de:  0.944954128440367\n",
      "La precision es de:  0.944954128440367\n",
      "El f1 score es de:  0.944954128440367\n"
     ]
    },
    {
     "data": {
      "image/png": "[encoded data removed]",
      "text/plain": [
       "<Figure size 720x720 with 2 Axes>"
      ]
     },
     "metadata": {
      "needs_background": "light"
     },
     "output_type": "display_data"
    }
   ],
   "source": [
    "y_pred_RF = clasificador.predict(X_test)\n",
    "evaluate_model(y_test, y_pred_RF)\n",
    "matconfision(y_test, y_pred_RF)"
   ]
  },
  {
   "cell_type": "markdown",
   "metadata": {},
   "source": [
    "De los modleos de ML ajustados se observa una superioridad de la Logistic Regression LR sobre el Random Forest, no solamente en las metricas numericas, tambien sobre la matriz de confusion en las cuales el RF tiene problemas para clasificar la clase 7, por lo tanto de estos dos modelos se elige el modelo LR\n",
    "\n",
    "## 3. Comparacion y conclusion\n",
    "\n",
    "Inicialmente se tiene que el modelo CNN tiene problemas ya que las redes neuronales son demandantes en imagenes por lo cual se sospecha que esta sobreajustada, la LR es un modelo no es demandante en muestras. Omitiendo esto, al comparar las metricas numericas el modelo LR tiene mejores metricas sobre el modelo CNN, la matriz de confusion es superior la LR sobre la matri de confusion del modelo CNN por ultimo el tiempo de ajuste de modelos el modelo CNN tarda aproximadamente 15 minutos ajustando en cambio el modelo LR tarda solo tarda 1 segundo, por estas razones se suguiere lo siguiente:\n",
    "\n",
    "* Realizar un nuevo diseño de experimento.\n",
    "* Aumentar las muestras, ya que estos modelos pueden ser potencializados con mayores y mejores imagenes.\n",
    "* Se elige el modelo LR por tiempos y metricas.\n",
    "\n",
    "Como proyecto futuro se podria utilizar la funcion VideoCapture de CV2 para capturar en tiempo real y clasificar inmediatamente las imagenes. "
   ]
  },
  {
   "cell_type": "markdown",
   "metadata": {},
   "source": [
    "<h3>**Notas:**</h3>\n",
    "<h4>El codigo es inspirado en www.aprendemachinelearning.com y en la base de datos asl_alphabet_train</h4></div>"
   ]
  },
  {
   "attachments": {},
   "cell_type": "markdown",
   "metadata": {},
   "source": [
    "# Bibliografia\n",
    "\n",
    "cafedecolombia. Defectos de Café Verde. Recuperado de: http://www.cafedecolombia.com/clientes/es/regulacion_nacional/exportadores/2831_calidades_de_exportacion/\n",
    "\n",
    "cafesocialcoffee. (2013, Enero 2). Tillado Café Social en Pergamino y Selección en Mallas Números 18-17-16-15-14 y 13. [Archivo de video]. Recuperado de: https://www.youtube.com/watch?v=yeMeBAQGTUc\n",
    "\n",
    "EFE.(2020). Brasil exportó 3,22 millones de sacos de café en enero, 7,2 % menos que 2019. diariolibre. Sao Paulo. Recuperado de: https://www.diariolibre.com/actualidad/internacional/brasil-exporto-322-millones-de-sacos-de-cafe-en-enero-72-menos-que-2019-GG17007076\n",
    "\n",
    "Ly, k. 7 Defectos de Café Verde que Tostadores y Productores Deben Reconocer. Recuperado de: https://www.perfectdailygrind.com\n",
    "\n",
    "Resolucion No. 02 de 2002. Comite Nacional de Cafeteros. Bogota, Colombia, 6 de Junio de 2002.\n",
    "\n",
    "Sandoval, Z., (2005). Caracterización y clasificación de café cereza usando visión artificial (Tesis de maestría). Facultad de ingeniería y arquitectura, Universidad Nacional de Colombia. Manizales. Colombia.\n",
    "\n",
    "Silvarolla, Maria B.; Mazzafera, Paulo; Fazuoli, Luiz C. (2004). «A naturally decaffeinated arabica coffee». Nature 429 (6994): 826. PMID 15215853. doi:10.1038/429826a.\n",
    "Weinberg, Bennet Alan; Bealer, Bonnie K. (2001). The World of Caffeine: The Science and Culture of the World's Most Popular Drug. Nueva York: Routledge. ISBN 0-415-92722-6.\n",
    "\n",
    "Vanegas, F. (2017). Estructura del fruto del café. [Figura]. Recuperado de https://www.yoamoelcafedecolombia.com/"
   ]
  }
 ],
 "metadata": {
  "kernelspec": {
   "display_name": "Python 3",
   "language": "python",
   "name": "python3"
  },
  "language_info": {
   "codemirror_mode": {
    "name": "ipython",
    "version": 3
   },
   "file_extension": ".py",
   "mimetype": "text/x-python",
   "name": "python",
   "nbconvert_exporter": "python",
   "pygments_lexer": "ipython3",
   "version": "3.7.3"
  }
 },
 "nbformat": 4,
 "nbformat_minor": 2
}
